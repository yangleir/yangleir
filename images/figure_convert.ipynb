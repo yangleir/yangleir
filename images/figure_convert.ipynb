{
 "cells": [
  {
   "cell_type": "code",
   "execution_count": 1,
   "id": "6b299a57-ef33-4927-b14c-e831483b5545",
   "metadata": {},
   "outputs": [
    {
     "name": "stdout",
     "output_type": "stream",
     "text": [
      "转换完成！\n"
     ]
    }
   ],
   "source": [
    "from PIL import Image\n",
    "import os\n",
    "\n",
    "# 设置你的图片目录\n",
    "input_folder = './'\n",
    "output_folder = './'\n",
    "\n",
    "# 确保输出目录存在\n",
    "os.makedirs(output_folder, exist_ok=True)\n",
    "\n",
    "# 遍历目录中所有文件\n",
    "for file_name in os.listdir(input_folder):\n",
    "    if file_name.endswith('.webp'):\n",
    "        file_path = os.path.join(input_folder, file_name)\n",
    "        image = Image.open(file_path)\n",
    "        # 设置输出文件名和路径\n",
    "        output_file_path = os.path.join(output_folder, f\"{os.path.splitext(file_name)[0]}.png\")\n",
    "        image.save(output_file_path, 'PNG')\n",
    "\n",
    "print(\"转换完成！\")\n"
   ]
  },
  {
   "cell_type": "code",
   "execution_count": null,
   "id": "8c38171d-2c3b-4435-b3ba-9f1c30fb5505",
   "metadata": {},
   "outputs": [],
   "source": []
  }
 ],
 "metadata": {
  "kernelspec": {
   "display_name": "Python 3 (ipykernel)",
   "language": "python",
   "name": "python3"
  },
  "language_info": {
   "codemirror_mode": {
    "name": "ipython",
    "version": 3
   },
   "file_extension": ".py",
   "mimetype": "text/x-python",
   "name": "python",
   "nbconvert_exporter": "python",
   "pygments_lexer": "ipython3",
   "version": "3.9.7"
  }
 },
 "nbformat": 4,
 "nbformat_minor": 5
}
